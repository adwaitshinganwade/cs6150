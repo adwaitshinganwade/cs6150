{
 "cells": [
  {
   "cell_type": "markdown",
   "id": "e618d336-b6c8-41da-a137-90104f01360e",
   "metadata": {},
   "source": [
    "# Brownian Motion - Frequency of Crossing Origin"
   ]
  },
  {
   "cell_type": "code",
   "execution_count": 2,
   "id": "991be781-e6b1-4273-b471-3eaf6fc9d61d",
   "metadata": {},
   "outputs": [
    {
     "name": "stdout",
     "output_type": "stream",
     "text": [
      "t:    40000 | No. of experiments:  50 | Average hops across origin:  154\n",
      "t:    90000 | No. of experiments:  50 | Average hops across origin:  193\n",
      "t:   160000 | No. of experiments:  50 | Average hops across origin:  274\n"
     ]
    }
   ],
   "source": [
    "import random\n",
    "import numpy as np\n",
    "def position_after_t_steps(time_ticks: int, num_exps: int):\n",
    "    if time_ticks <= 0 or num_exps <= 0:\n",
    "        return\n",
    "    observed_hops = np.zeros(num_exps).astype(int)\n",
    "    for i in range(num_exps):\n",
    "        # initial position of the particle\n",
    "        particle_position = 0\n",
    "        step_choices = 10\n",
    "        # Generate an array having an equal number of +1 and -1 elements. The elements are shuffled\n",
    "        # The particle will choose a step from this array every time and move\n",
    "        steps = np.concatenate((np.ones(step_choices).astype(int), np.full(step_choices, -1).astype(int)))\n",
    "        np.random.shuffle(steps)\n",
    "        # tracking frequency of crossing the origin\n",
    "        hops_across_origin = 0\n",
    "        for time in range(time_ticks):\n",
    "            # If the particle is currently at origin, it will now cross it\n",
    "            if particle_position == 0:\n",
    "                hops_across_origin += 1\n",
    "            # Randomly choose a step\n",
    "            particle_position += steps[random.randint(0,2 * step_choices - 1)]\n",
    "        # Discounting the first \"hop,\" when the particle is at origin initially\n",
    "        observed_hops[i] = hops_across_origin - 1\n",
    "    avg_hops = np.mean(observed_hops)\n",
    "    print(\"t: %8d | No. of experiments: %3d | Average hops across origin: %4d\" %(time_ticks, num_exps, avg_hops))\n",
    "\n",
    "position_after_t_steps(40000, 50)\n",
    "position_after_t_steps(90000, 50)\n",
    "position_after_t_steps(160000, 50)\n",
    "        \n",
    "        "
   ]
  },
  {
   "cell_type": "markdown",
   "id": "b507e57a-c666-4eb0-a549-36b675236432",
   "metadata": {},
   "source": [
    "# Trade-offs in sampling"
   ]
  },
  {
   "cell_type": "code",
   "execution_count": 1,
   "id": "d3f0f379-2eca-452b-831e-0ead89da9547",
   "metadata": {},
   "outputs": [
    {
     "name": "stdout",
     "output_type": "stream",
     "text": [
      "No. of plus votes: 520000\n",
      "No. of minus     : 480000\n",
      "Total votes      : 1000000\n",
      "\n",
      "Performing experiment...\n",
      "\n",
      "Sample size:    20 | Number of experiments: 100 | Probability that majority element is +1: 0.49\n",
      "Sample size:   100 | Number of experiments: 100 | Probability that majority element is +1: 0.69\n",
      "Sample size:   400 | Number of experiments: 100 | Probability that majority element is +1: 0.79\n",
      "Determining sample size such that the probability of getting the majority element is 0.9\n",
      "Sample size:   400 | Number of experiments: 100 | Probability that majority element is +1: 0.79\n",
      "Sample size:   550 | Number of experiments: 100 | Probability that majority element is +1: 0.81\n",
      "Sample size:   774 | Number of experiments: 100 | Probability that majority element is +1: 0.88\n",
      "Sample size:  1110 | Number of experiments: 100 | Probability that majority element is +1: 0.91\n",
      "Sample size:  1110 | Number of experiments: 100 | Probability that majority element is +1: 0.92\n",
      "Sample size:  1110 | Number of experiments: 100 | Probability that majority element is +1: 0.88\n",
      "Sample size:  1236 | Number of experiments: 100 | Probability that majority element is +1: 0.90\n"
     ]
    }
   ],
   "source": [
    "import numpy as np\n",
    "import numpy.typing as npt\n",
    "\n",
    "# Setting things up\n",
    "percentage_plus_votes = 0.52\n",
    "percentage_minus_votes = 1 - percentage_plus_votes\n",
    "vote_bank_size = 1000000\n",
    "num_exps = 100\n",
    "\n",
    "# Generate arrays of +1 and -1 votes, having a 52-48 split by size\n",
    "plus_votes = np.ones(int(vote_bank_size * percentage_plus_votes)).astype(int)\n",
    "minus_votes = np.full(int(vote_bank_size * percentage_minus_votes), -1).astype(int)\n",
    "\n",
    "# Generate a single \"vote bank\" and shuffle it\n",
    "all_votes = np.concatenate((plus_votes, minus_votes))\n",
    "np.random.shuffle(all_votes) # in-place shuffling\n",
    "\n",
    "def perform_experiment(population: npt.NDArray[np.int_], sample_size: int, num_exps: int):\n",
    "    if num_exps <= 0 or sample_size <=0:\n",
    "        return\n",
    "    samples_with_majority = 0\n",
    "    for exp in range(num_exps):\n",
    "        # Sample votes without replacement\n",
    "        sample = np.random.choice(a=population, size=sample_size, replace=False)\n",
    "        # Keep track of the experiments which resulted in +1 being the majority\n",
    "        if np.sum(sample) > 0:\n",
    "            samples_with_majority += 1\n",
    "    return samples_with_majority/num_exps\n",
    "\n",
    "\n",
    "print(f'No. of plus votes: {len(plus_votes)}')\n",
    "print(f'No. of minus     : {len(minus_votes)}')\n",
    "print(f'Total votes      : {len(all_votes)}\\n')\n",
    "\n",
    "print('Performing experiment...\\n')\n",
    "sample_sizes = [20, 100, 400]\n",
    "for sample_size in sample_sizes:\n",
    "    prob_experiment = perform_experiment(all_votes, sample_size, num_exps)\n",
    "    print(f\"Sample size: %5s | Number of experiments: %3s | Probability that majority element is +1: %4.2f\" % (sample_size, num_exps, prob_experiment))\n",
    "\n",
    "print('Determining sample size such that the probability of getting the majority element is 0.9')\n",
    "# Empirical results show that the sample size should be greater than 400 for probability > 0.9\n",
    "\n",
    "exp_sample_size = 400\n",
    "sample_step = 50\n",
    "while exp_sample_size > 0:\n",
    "    prob_experiment = perform_experiment(all_votes, exp_sample_size, num_exps)\n",
    "    print(f\"Sample size: %5s | Number of experiments: %3s | Probability that majority element is +1: %4.2f\" % (exp_sample_size, num_exps, prob_experiment))\n",
    "    if abs(0.9 - prob_experiment) <= 0.01:\n",
    "        break\n",
    "    if 0.9 > prob_experiment:\n",
    "        sample_step = sample_step + int(sample_step / 2)\n",
    "        exp_sample_size += sample_step\n",
    "    else:\n",
    "        sample_step = sample_step - int(sample_step / 2)\n",
    "        exp_sample_size -= sample_step\n",
    "    exp_sample_size += sample_step\n",
    "                        \n",
    "\n"
   ]
  },
  {
   "cell_type": "code",
   "execution_count": null,
   "id": "69b1b230-4712-4e00-af66-24fe9caa55f5",
   "metadata": {},
   "outputs": [],
   "source": []
  },
  {
   "cell_type": "code",
   "execution_count": null,
   "id": "40f8be6f-09cb-4e84-92d0-f1ee205a695e",
   "metadata": {},
   "outputs": [],
   "source": []
  },
  {
   "cell_type": "code",
   "execution_count": null,
   "id": "52b45e7c-3a32-49e4-a807-48d044c63b39",
   "metadata": {},
   "outputs": [],
   "source": []
  },
  {
   "cell_type": "code",
   "execution_count": null,
   "id": "6ba37687-e482-429d-b2b4-a3dda685d695",
   "metadata": {},
   "outputs": [],
   "source": []
  }
 ],
 "metadata": {
  "kernelspec": {
   "display_name": "Python 3 (ipykernel)",
   "language": "python",
   "name": "python3"
  },
  "language_info": {
   "codemirror_mode": {
    "name": "ipython",
    "version": 3
   },
   "file_extension": ".py",
   "mimetype": "text/x-python",
   "name": "python",
   "nbconvert_exporter": "python",
   "pygments_lexer": "ipython3",
   "version": "3.11.6"
  }
 },
 "nbformat": 4,
 "nbformat_minor": 5
}
